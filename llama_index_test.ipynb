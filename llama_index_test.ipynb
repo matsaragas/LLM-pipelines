{
 "cells": [
  {
   "cell_type": "code",
   "execution_count": 1,
   "id": "4206fa76-d0f2-49a7-a17b-04514426e345",
   "metadata": {},
   "outputs": [],
   "source": [
    "import json\n",
    "import yaml\n",
    "from typing import List, Dict, Any"
   ]
  },
  {
   "cell_type": "code",
   "execution_count": 2,
   "id": "2274123a-66f1-4add-b394-87bba438a34b",
   "metadata": {},
   "outputs": [],
   "source": [
    "from dataclasses import dataclass\n",
    "from dataclasses import field as dataclass_field"
   ]
  },
  {
   "cell_type": "code",
   "execution_count": 3,
   "id": "bc616e06-51df-4196-a839-17539d839e00",
   "metadata": {},
   "outputs": [],
   "source": [
    "import jmespath"
   ]
  },
  {
   "cell_type": "code",
   "execution_count": 4,
   "id": "51b91724-79e7-4d69-b24a-bc5789eb3d82",
   "metadata": {},
   "outputs": [],
   "source": [
    "from llama_index.core import Document"
   ]
  },
  {
   "cell_type": "code",
   "execution_count": 5,
   "id": "a9d5bde8-651e-4cfb-bc83-11c3dc759faf",
   "metadata": {},
   "outputs": [],
   "source": [
    "def load_schema(shema_path):\n",
    "\n",
    "    with open(shema_path, 'r') as file:\n",
    "        try:\n",
    "            data = yaml.safe_load(file)\n",
    "            return data\n",
    "        except yaml.YAMLError as error:\n",
    "            print(f\"error reading YAML file: {error}\")\n",
    "\n",
    "\n",
    "\n",
    "def load_feed():\n",
    "    fpath = \"data/news_feed.json\"\n",
    "    with open(fpath, encoding=\"utf-8\") as f:\n",
    "        data = json.loads(f.read())\n",
    "    bbc_datum = data[\"referenceData\"][\"news\"][\"value\"]\n",
    "    return [x for x in bbc_datum if x.get(\"id\")]"
   ]
  },
  {
   "cell_type": "code",
   "execution_count": 6,
   "id": "cd9f9a3e-a565-4b4f-bbf7-7fa1a9d9ccf3",
   "metadata": {},
   "outputs": [],
   "source": [
    "@dataclass\n",
    "class StandardizedItem:\n",
    "    data: Dict[str, Any] = dataclass_field(default_factory=dict)\n",
    "    text_fields: List[Dict[str, Any]] = dataclass_field(default_factory=list) \n",
    "\n",
    "@dataclass\n",
    "class StandardizedResult:\n",
    "    standardized_data: List[StandardizedItem] = dataclass_field(default_factory=list)\n",
    "    metadata_attrs: List[str] = dataclass_field(default_factory=list)\n",
    "    exclude_embedings_attrs: List[str] = dataclass_field(default_factory=list)\n",
    "    exclude_llm_attrs: List[str] = dataclass_field(default_factory=list)\n"
   ]
  },
  {
   "cell_type": "code",
   "execution_count": null,
   "id": "0f6d771e-f183-40b2-85f6-c3b84495e4fb",
   "metadata": {},
   "outputs": [],
   "source": [
    "\n"
   ]
  },
  {
   "cell_type": "code",
   "execution_count": 7,
   "id": "b16cdfe0-b64f-4fb6-854d-6c3e2bf058c6",
   "metadata": {},
   "outputs": [],
   "source": [
    "def metadata_exclusion(\n",
    "    metadata_exclude: Dict[str, Any], \n",
    "    source: str\n",
    ") -> tuple:\n",
    "    excluded_llm = metadata_exclude.get(\"llm\", False)\n",
    "    excluded_embed = metadata_exclude.get(\"embed\", False)\n",
    "    excluded_storage = metadata_exclude.get(\"storage\", False)\n",
    "    return (excluded_llm, excluded_embed, excluded_storage)"
   ]
  },
  {
   "cell_type": "code",
   "execution_count": 8,
   "id": "785c271b-9dfe-468f-b808-1111a9e73434",
   "metadata": {},
   "outputs": [],
   "source": [
    "\n",
    "\n",
    "def standardized_data(\n",
    "    raw_datum: List[Dict[str, Any]], \n",
    "    schema: Dict[str, Any], \n",
    "    source: str\n",
    ") -> StandardizedResult:\n",
    "    \"\"\"\n",
    "    Converts a list of raw data dictionaries into a standardized format\n",
    "    according to a schema and source. Also tracks metadata inclusion/exclusion.\n",
    "    \"\"\"\n",
    "    metadata_attrs = set()\n",
    "    exclude_embedings_attrs = set()\n",
    "    exclude_llm_attrs = set()\n",
    "    standardized_data_stream = []\n",
    "    fields = schema.get(\"fields\", [])\n",
    "    for raw_data_item in raw_datum:\n",
    "        standardized_data_point = {}\n",
    "        text_metadata = []\n",
    "        for field in fields:\n",
    "            target_field = field.get(\"field\")\n",
    "            text_field_map = field.get(\"text\", {})\n",
    "            metadata_exclude=field.get(\"metadata_exclude\", {})\n",
    "            \n",
    "            try:\n",
    "                processed_value = raw_data_item[target_field]\n",
    "                standardized_data_point[target_field] = processed_value\n",
    "            except Exception as e:\n",
    "                raise ValueError(f\"Error processing field `{target_field}`\")\n",
    "            \n",
    "            excluded_llm = metadata_exclude.get(\"llm\", False)\n",
    "            excluded_embed = metadata_exclude.get(\"embed\", False)\n",
    "            excluded_storage = metadata_exclude.get(\"storage\", False)\n",
    "                        \n",
    "            if not excluded_storage:\n",
    "                metadata_attrs.add(target_field)\n",
    "            if excluded_embed:\n",
    "                exclude_embedings_attrs.add(target_field)\n",
    "            if excluded_llm:\n",
    "                exclude_llm_attrs.add(target_field)\n",
    "            if text_field_map:\n",
    "                text_metadata.append(\n",
    "                    {\n",
    "                        \"heading\": text_field_map.get(\"heading\"),\n",
    "                        \"value\": processed_value\n",
    "                    }\n",
    "                )\n",
    "        standardized_data_stream.append(\n",
    "                StandardizedItem(\n",
    "                    data=standardized_data_point,\n",
    "                    text_fields=text_metadata\n",
    "                )\n",
    "            )\n",
    "    return StandardizedResult(\n",
    "        standardized_data=standardized_data_stream,\n",
    "        metadata_attrs=list(metadata_attrs),\n",
    "        exclude_embedings_attrs=list(exclude_embedings_attrs),\n",
    "        exclude_llm_attrs=list(exclude_llm_attrs)\n",
    "    )"
   ]
  },
  {
   "cell_type": "code",
   "execution_count": null,
   "id": "a3bb9b74-42a9-44c9-bc2f-e538dafcba0e",
   "metadata": {},
   "outputs": [],
   "source": []
  },
  {
   "cell_type": "code",
   "execution_count": 9,
   "id": "524634e9-0d31-4140-a1ae-0c1b709458f7",
   "metadata": {},
   "outputs": [],
   "source": [
    "data = load_feed()"
   ]
  },
  {
   "cell_type": "code",
   "execution_count": 10,
   "id": "163dfc38-beaf-458c-890d-f578a8ad5887",
   "metadata": {},
   "outputs": [],
   "source": [
    "schema = load_schema(\"data/config.yaml\")"
   ]
  },
  {
   "cell_type": "code",
   "execution_count": 11,
   "id": "d557e73b-78ed-4334-a0fe-23b9da8548b7",
   "metadata": {},
   "outputs": [
    {
     "data": {
      "text/plain": [
       "{'fields': [{'field': 'id',\n",
       "   'sources': {'bbc': 'id'},\n",
       "   'metadata_exclude': {'llm': True, 'embed': True}},\n",
       "  {'field': 'region',\n",
       "   'sources': {'bbc': 'region'},\n",
       "   'metadata_exclude': {'llm': True, 'embed': True}},\n",
       "  {'field': 'country',\n",
       "   'sources': {'bbc': 'country'},\n",
       "   'metadata_exclude': {'llm': True, 'embed': True}},\n",
       "  {'field': 'title',\n",
       "   'sources': {'bbc': 'title'},\n",
       "   'text': {'heading': 'Title'},\n",
       "   'metadata_exclude': {'llm': False, 'embed': False}},\n",
       "  {'field': 'description',\n",
       "   'sources': {'bbc': 'description'},\n",
       "   'text': {'heading': 'Description'},\n",
       "   'metadata_exclude': {'llm': False, 'embed': False}},\n",
       "  {'field': 'theme',\n",
       "   'sources': {'bbc': 'theme'},\n",
       "   'metadata_exclude': {'llm': True, 'embed': True}}]}"
      ]
     },
     "execution_count": 11,
     "metadata": {},
     "output_type": "execute_result"
    }
   ],
   "source": [
    "schema"
   ]
  },
  {
   "cell_type": "code",
   "execution_count": 12,
   "id": "cd1d07b1-38bd-46e4-abed-029bc14d0993",
   "metadata": {},
   "outputs": [],
   "source": [
    "normal_data = standardized_data(data, schema, \"bbc\")"
   ]
  },
  {
   "cell_type": "code",
   "execution_count": 13,
   "id": "79293fb6-3c0f-48dc-a149-dd556ef4e7db",
   "metadata": {},
   "outputs": [
    {
     "data": {
      "text/plain": [
       "StandardizedResult(standardized_data=[StandardizedItem(data={'id': '0184', 'region': 'NA', 'country': 'US', 'title': 'Ad sales boost Time Warner profit', 'description': \"Quarterly profits at US media giant TimeWarner jumped 76% to $1.13bn (£600m) for the three months to December, from $639m year-earlier.\\n\\nThe firm, which is now one of the biggest investors in Google, benefited from sales of high-speed internet connections and higher advert sales. TimeWarner said fourth quarter sales rose 2% to $11.1bn from $10.9bn. Its profits were buoyed by one-off gains which offset a profit dip at Warner Bros, and less users for AOL.\\n\\nTime Warner said on Friday that it now owns 8% of search-engine Google. But its own internet business, AOL, had has mixed fortunes. It lost 464,000 subscribers in the fourth quarter profits were lower than in the preceding three quarters. However, the company said AOL's underlying profit before exceptional items rose 8% on the back of stronger internet advertising revenues. It hopes to increase subscribers by offering the online service free to TimeWarner internet customers and will try to sign up AOL's existing customers for high-speed broadband. TimeWarner also has to restate 2000 and 2003 results following a probe by the US Securities Exchange Commission (SEC), which is close to concluding.\\n\", 'theme': 'Business'}, text_fields=[{'heading': 'Title', 'value': 'Ad sales boost Time Warner profit'}, {'heading': 'Description', 'value': \"Quarterly profits at US media giant TimeWarner jumped 76% to $1.13bn (£600m) for the three months to December, from $639m year-earlier.\\n\\nThe firm, which is now one of the biggest investors in Google, benefited from sales of high-speed internet connections and higher advert sales. TimeWarner said fourth quarter sales rose 2% to $11.1bn from $10.9bn. Its profits were buoyed by one-off gains which offset a profit dip at Warner Bros, and less users for AOL.\\n\\nTime Warner said on Friday that it now owns 8% of search-engine Google. But its own internet business, AOL, had has mixed fortunes. It lost 464,000 subscribers in the fourth quarter profits were lower than in the preceding three quarters. However, the company said AOL's underlying profit before exceptional items rose 8% on the back of stronger internet advertising revenues. It hopes to increase subscribers by offering the online service free to TimeWarner internet customers and will try to sign up AOL's existing customers for high-speed broadband. TimeWarner also has to restate 2000 and 2003 results following a probe by the US Securities Exchange Commission (SEC), which is close to concluding.\\n\"}]), StandardizedItem(data={'id': '0185', 'region': 'EMEA', 'country': 'UK', 'title': 'Labour plans maternity pay rise', 'description': 'Maternity pay for new mothers is to rise by £1,400 as part of new proposals announced by the Trade and Industry Secretary Patricia Hewitt.\\n\\nIt would mean paid leave would be increased to nine months by 2007, Ms Hewitt told GMTV\\'s Sunday programme. Other plans include letting maternity pay be given to fathers and extending rights to parents of older children. The Tories dismissed the maternity pay plan as \"desperate\", while the Liberal Democrats said it was misdirected.\\n\\nMs Hewitt said: \"We have already doubled the length of maternity pay, it was 13 weeks when we were elected, we have already taken it up to 26 weeks. \"We are going to extend the pay to nine months by 2007 and the aim is to get it right up to the full 12 months by the end of the next Parliament.\" She said new mothers were already entitled to 12 months leave, but that many women could not take it as only six of those months were paid. \"We have made a firm commitment. We will definitely extend the maternity pay, from the six months where it now is to nine months, that\\'s the extra £1,400.\" She said ministers would consult on other proposals that could see fathers being allowed to take some of their partner\\'s maternity pay or leave period, or extending the rights of flexible working to carers or parents of older children. The Shadow Secretary of State for the Family, Theresa May, said: \"These plans were announced by Gordon Brown in his pre-budget review in December and Tony Blair is now recycling it in his desperate bid to win back women voters.\"', 'theme': 'Politics'}, text_fields=[{'heading': 'Title', 'value': 'Labour plans maternity pay rise'}, {'heading': 'Description', 'value': 'Maternity pay for new mothers is to rise by £1,400 as part of new proposals announced by the Trade and Industry Secretary Patricia Hewitt.\\n\\nIt would mean paid leave would be increased to nine months by 2007, Ms Hewitt told GMTV\\'s Sunday programme. Other plans include letting maternity pay be given to fathers and extending rights to parents of older children. The Tories dismissed the maternity pay plan as \"desperate\", while the Liberal Democrats said it was misdirected.\\n\\nMs Hewitt said: \"We have already doubled the length of maternity pay, it was 13 weeks when we were elected, we have already taken it up to 26 weeks. \"We are going to extend the pay to nine months by 2007 and the aim is to get it right up to the full 12 months by the end of the next Parliament.\" She said new mothers were already entitled to 12 months leave, but that many women could not take it as only six of those months were paid. \"We have made a firm commitment. We will definitely extend the maternity pay, from the six months where it now is to nine months, that\\'s the extra £1,400.\" She said ministers would consult on other proposals that could see fathers being allowed to take some of their partner\\'s maternity pay or leave period, or extending the rights of flexible working to carers or parents of older children. The Shadow Secretary of State for the Family, Theresa May, said: \"These plans were announced by Gordon Brown in his pre-budget review in December and Tony Blair is now recycling it in his desperate bid to win back women voters.\"'}]), StandardizedItem(data={'id': '0186', 'region': 'EMEA', 'country': 'UK', 'title': \"UK 'needs true immigration data'\", 'description': 'A former Home Office minister has called for an independent body to be set up to monitor UK immigration.\\n\\nBarbara Roche said an organisation should monitor and publish figures and be independent of government. She said this would counter \"so-called independent\" groups like Migration Watch, which she described as an anti-immigration body posing as independent. Migration Watch says it is not against all immigration and the government already publishes accurate figures. Sir Andrew Green, chairman of the organisation, says there is no need for an independent body because Office of National Statistics data are accurate. He says he opposes large-scale immigration \"both on the grounds of overcrowding and culture\".', 'theme': 'Politics'}, text_fields=[{'heading': 'Title', 'value': \"UK 'needs true immigration data'\"}, {'heading': 'Description', 'value': 'A former Home Office minister has called for an independent body to be set up to monitor UK immigration.\\n\\nBarbara Roche said an organisation should monitor and publish figures and be independent of government. She said this would counter \"so-called independent\" groups like Migration Watch, which she described as an anti-immigration body posing as independent. Migration Watch says it is not against all immigration and the government already publishes accurate figures. Sir Andrew Green, chairman of the organisation, says there is no need for an independent body because Office of National Statistics data are accurate. He says he opposes large-scale immigration \"both on the grounds of overcrowding and culture\".'}]), StandardizedItem(data={'id': '0187', 'region': 'EMEA', 'country': 'UK', 'title': 'Dibaba breaks 5,000m world record', 'description': 'Ethiopia\\'s Tirunesh Dibaba set a new world record in winning the women\\'s 5,000m at the Boston Indoor Games.\\n\\nDibaba won in 14 minutes 32.93 seconds to erase the previous world indoor mark of 14:39.29 set by another Ethiopian, Berhane Adera, in Stuttgart last year. But compatriot Kenenisa Bekele\\'s record hopes were dashed when he miscounted his laps in the men\\'s 3,000m and staged his sprint finish a lap too soon. Ireland\\'s Alistair Cragg won in 7:39.89 as Bekele battled to second in 7:41.42. \"I didn\\'t want to sit back and get out-kicked,\" said Cragg. \"So I kept on the pace. The plan was to go with 500m to go no matter what, but when Bekele made the mistake that was it. The race was mine.\" Sweden\\'s Carolina Kluft, the Olympic heptathlon champion, and Slovenia\\'s Jolanda Ceplak had winning performances, too. Kluft took the long jump at 6.63m, while Ceplak easily won the women\\'s 800m in 2:01.52.\\n', 'theme': 'Sport'}, text_fields=[{'heading': 'Title', 'value': 'Dibaba breaks 5,000m world record'}, {'heading': 'Description', 'value': 'Ethiopia\\'s Tirunesh Dibaba set a new world record in winning the women\\'s 5,000m at the Boston Indoor Games.\\n\\nDibaba won in 14 minutes 32.93 seconds to erase the previous world indoor mark of 14:39.29 set by another Ethiopian, Berhane Adera, in Stuttgart last year. But compatriot Kenenisa Bekele\\'s record hopes were dashed when he miscounted his laps in the men\\'s 3,000m and staged his sprint finish a lap too soon. Ireland\\'s Alistair Cragg won in 7:39.89 as Bekele battled to second in 7:41.42. \"I didn\\'t want to sit back and get out-kicked,\" said Cragg. \"So I kept on the pace. The plan was to go with 500m to go no matter what, but when Bekele made the mistake that was it. The race was mine.\" Sweden\\'s Carolina Kluft, the Olympic heptathlon champion, and Slovenia\\'s Jolanda Ceplak had winning performances, too. Kluft took the long jump at 6.63m, while Ceplak easily won the women\\'s 800m in 2:01.52.\\n'}]), StandardizedItem(data={'id': '0188', 'region': 'EMEA', 'country': 'France', 'title': 'Clarke to unveil immigration plan', 'description': 'New controls on economic migrants and tighter border patrols will be part of government plans unveiled on Monday.\\n\\nHome Secretary Charles Clarke wants to introduce a points system for economic migrants and increase deportations of failed asylum seekers. Tony Blair has said people are right to be concerned about abuses of the system but there is no \"magic bullet\". The Tories say Labour is acting too late while the Lib Dems say the plans may not produce an efficient system.\\n\\nThe government\\'s new five-year plan is designed to show how Labour would reform immigration and asylum controls if it wins the election, expected to be held in May. Ministers deny they have been spurred into action by Tory campaigning or because the prime minister is worried too little has been done.\\n\\nInstead, they say the plans are part of an \"evolving\" process aimed at winning public confidence. Mr Clarke is expected to announce an end to the automatic right to settle for immigrants\\' families, and the introduction of fingerprinting for all visa applicants. The prime minister on Sunday said immigration would be \"toughened up\" to ensure only those immigrants with skills the UK really needs will be granted work permits. But he rejected the Tories\\' call for a quota on economic migrants, saying no \"arbitrary figure\" could reflect the UK\\'s needs.\\n\\nMr Blair told BBC Radio 4\\'s Westminster Hour: \"We should cut the number or increase it depending on the country\\'s needs... \"The public are worried about this, they are worried rightly, because there are abuses of the immigration and asylum system.\" But he defended the UK\\'s current regime, saying all systems around the world were subject to abuse. Tory proposals to cap the number of asylum seekers and process all claims abroad would not work, argued Mr Blair.', 'theme': 'Politics'}, text_fields=[{'heading': 'Title', 'value': 'Clarke to unveil immigration plan'}, {'heading': 'Description', 'value': 'New controls on economic migrants and tighter border patrols will be part of government plans unveiled on Monday.\\n\\nHome Secretary Charles Clarke wants to introduce a points system for economic migrants and increase deportations of failed asylum seekers. Tony Blair has said people are right to be concerned about abuses of the system but there is no \"magic bullet\". The Tories say Labour is acting too late while the Lib Dems say the plans may not produce an efficient system.\\n\\nThe government\\'s new five-year plan is designed to show how Labour would reform immigration and asylum controls if it wins the election, expected to be held in May. Ministers deny they have been spurred into action by Tory campaigning or because the prime minister is worried too little has been done.\\n\\nInstead, they say the plans are part of an \"evolving\" process aimed at winning public confidence. Mr Clarke is expected to announce an end to the automatic right to settle for immigrants\\' families, and the introduction of fingerprinting for all visa applicants. The prime minister on Sunday said immigration would be \"toughened up\" to ensure only those immigrants with skills the UK really needs will be granted work permits. But he rejected the Tories\\' call for a quota on economic migrants, saying no \"arbitrary figure\" could reflect the UK\\'s needs.\\n\\nMr Blair told BBC Radio 4\\'s Westminster Hour: \"We should cut the number or increase it depending on the country\\'s needs... \"The public are worried about this, they are worried rightly, because there are abuses of the immigration and asylum system.\" But he defended the UK\\'s current regime, saying all systems around the world were subject to abuse. Tory proposals to cap the number of asylum seekers and process all claims abroad would not work, argued Mr Blair.'}])], metadata_keys=['id', 'description', 'title', 'theme', 'region', 'country'], exclude_embedings_keys=['id', 'theme', 'region', 'country'], exclude_llm_keys=['id', 'theme', 'region', 'country'])"
      ]
     },
     "execution_count": 13,
     "metadata": {},
     "output_type": "execute_result"
    }
   ],
   "source": [
    "normal_data"
   ]
  },
  {
   "cell_type": "code",
   "execution_count": 26,
   "id": "ea9b40c7-472a-4cda-855e-2aa636da8fb8",
   "metadata": {},
   "outputs": [],
   "source": [
    "def _markdown_build(\n",
    "    field_text_configs: List[Dict[str, Any]]\n",
    ") -> str:\n",
    "    \"\"\"\n",
    "    Constructs a Markdown-formatted string from field text configurations.\n",
    "    Each config should have a 'heading' and 'value'.\n",
    "    \"\"\"\n",
    "    lines = []\n",
    "    for doc_config in field_text_configs:\n",
    "        heading = doc_config.get(\"heading\", \"\")\n",
    "        value = doc_config.get(\"value\", \"\")\n",
    "        if heading:\n",
    "            lines.append(f\"**{heading}**\")\n",
    "        if value:\n",
    "            lines.append(str(value))\n",
    "        lines.append(\"\")\n",
    "    return \"\\n\".join(lines).strip()\n",
    "\n",
    "def create_document(\n",
    "    doc_id: str, \n",
    "    field_text_configs: List[Dict[str, Any]], \n",
    "    metadata: Dict[str, Any] = None, \n",
    "    exclude_embedings_attrs: List[str] = None, \n",
    "    exclude_llm_attrs: List[str] = None,\n",
    ") -> Document:\n",
    "    \"\"\"\n",
    "    Constructs a Document object with specified field text configurations,\n",
    "    metadata, and excluded keys for embeddings and LLM processing.\n",
    "    \"\"\"\n",
    "    metadata = metadata or {}\n",
    "    exclude_embedings_keys = exclude_embedings_attrs or []\n",
    "    exclude_llm_keys = exclude_llm_attrs or []\n",
    "    doc = Document(\n",
    "        doc_id=doc_id, \n",
    "        excluded_embed_metadata_keys=exclude_embedings_keys, \n",
    "        excluded_llm_metadata_keys=exclude_llm_keys,\n",
    "        text=_construct_markdown(field_text_configs))\n",
    "    doc.metadata.update(metadata)\n",
    "    return doc\n",
    "\n",
    "\n",
    "def generate_document_from_standardized_data(source, input, doc_id):\n",
    "    \"\"\"\n",
    "    Generates a list of Document objects from standardized data.\n",
    "\n",
    "    Args:\n",
    "        source: The source identifier used for schema mapping.\n",
    "        data: The raw input data to be standardized.\n",
    "        doc_id: The key used to extract the document ID from each item.\n",
    "\n",
    "    Returns:\n",
    "        A list of Document instances.\n",
    "    \"\"\"\n",
    "    standard_data = standardized_data(data, schema, source)\n",
    "    documents = []\n",
    "    for item in standard_data.standardized_data:\n",
    "        document = create_document(\n",
    "            str(item.data.get(doc_id)),\n",
    "            field_text_configs=item.text_fields,\n",
    "            metadata={\n",
    "                key: value\n",
    "                for key, value in item.data.items()\n",
    "                if key in standard_data.metadata_keys\n",
    "            },\n",
    "            exclude_embedings_keys=standard_data.exclude_embedings_attrs,\n",
    "            exclude_llm_keys=standard_data.exclude_llm_attrs,\n",
    "        )\n",
    "        documents.append(document)\n",
    "    return documents"
   ]
  },
  {
   "cell_type": "code",
   "execution_count": 27,
   "id": "d3f09929-6e02-433c-a684-882faaaa49b0",
   "metadata": {},
   "outputs": [],
   "source": [
    "source = \"bbc\"\n",
    "input = data\n",
    "doc_id = \"id\"\n",
    "docs = generate_document_from_standardized_data(source, input, doc_id)"
   ]
  },
  {
   "cell_type": "code",
   "execution_count": 28,
   "id": "c8cc01a6-c6ed-43dd-bbfe-3b437067e5f9",
   "metadata": {},
   "outputs": [
    {
     "data": {
      "text/plain": [
       "[Document(id_='0184', embedding=None, metadata={'id': '0184', 'region': 'NA', 'country': 'US', 'title': 'Ad sales boost Time Warner profit', 'description': \"Quarterly profits at US media giant TimeWarner jumped 76% to $1.13bn (£600m) for the three months to December, from $639m year-earlier.\\n\\nThe firm, which is now one of the biggest investors in Google, benefited from sales of high-speed internet connections and higher advert sales. TimeWarner said fourth quarter sales rose 2% to $11.1bn from $10.9bn. Its profits were buoyed by one-off gains which offset a profit dip at Warner Bros, and less users for AOL.\\n\\nTime Warner said on Friday that it now owns 8% of search-engine Google. But its own internet business, AOL, had has mixed fortunes. It lost 464,000 subscribers in the fourth quarter profits were lower than in the preceding three quarters. However, the company said AOL's underlying profit before exceptional items rose 8% on the back of stronger internet advertising revenues. It hopes to increase subscribers by offering the online service free to TimeWarner internet customers and will try to sign up AOL's existing customers for high-speed broadband. TimeWarner also has to restate 2000 and 2003 results following a probe by the US Securities Exchange Commission (SEC), which is close to concluding.\\n\", 'theme': 'Business'}, excluded_embed_metadata_keys=['region', 'country', 'id', 'theme'], excluded_llm_metadata_keys=['region', 'country', 'id', 'theme'], relationships={}, metadata_template='{key}: {value}', metadata_separator='\\n', text_resource=MediaResource(embeddings=None, data=None, text=\"**Title**\\nAd sales boost Time Warner profit\\n\\n**Description**\\nQuarterly profits at US media giant TimeWarner jumped 76% to $1.13bn (£600m) for the three months to December, from $639m year-earlier.\\n\\nThe firm, which is now one of the biggest investors in Google, benefited from sales of high-speed internet connections and higher advert sales. TimeWarner said fourth quarter sales rose 2% to $11.1bn from $10.9bn. Its profits were buoyed by one-off gains which offset a profit dip at Warner Bros, and less users for AOL.\\n\\nTime Warner said on Friday that it now owns 8% of search-engine Google. But its own internet business, AOL, had has mixed fortunes. It lost 464,000 subscribers in the fourth quarter profits were lower than in the preceding three quarters. However, the company said AOL's underlying profit before exceptional items rose 8% on the back of stronger internet advertising revenues. It hopes to increase subscribers by offering the online service free to TimeWarner internet customers and will try to sign up AOL's existing customers for high-speed broadband. TimeWarner also has to restate 2000 and 2003 results following a probe by the US Securities Exchange Commission (SEC), which is close to concluding.\\n\\n\", path=None, url=None, mimetype=None), image_resource=None, audio_resource=None, video_resource=None, text_template='{metadata_str}\\n\\n{content}'),\n",
       " Document(id_='0185', embedding=None, metadata={'id': '0185', 'region': 'EMEA', 'country': 'UK', 'title': 'Labour plans maternity pay rise', 'description': 'Maternity pay for new mothers is to rise by £1,400 as part of new proposals announced by the Trade and Industry Secretary Patricia Hewitt.\\n\\nIt would mean paid leave would be increased to nine months by 2007, Ms Hewitt told GMTV\\'s Sunday programme. Other plans include letting maternity pay be given to fathers and extending rights to parents of older children. The Tories dismissed the maternity pay plan as \"desperate\", while the Liberal Democrats said it was misdirected.\\n\\nMs Hewitt said: \"We have already doubled the length of maternity pay, it was 13 weeks when we were elected, we have already taken it up to 26 weeks. \"We are going to extend the pay to nine months by 2007 and the aim is to get it right up to the full 12 months by the end of the next Parliament.\" She said new mothers were already entitled to 12 months leave, but that many women could not take it as only six of those months were paid. \"We have made a firm commitment. We will definitely extend the maternity pay, from the six months where it now is to nine months, that\\'s the extra £1,400.\" She said ministers would consult on other proposals that could see fathers being allowed to take some of their partner\\'s maternity pay or leave period, or extending the rights of flexible working to carers or parents of older children. The Shadow Secretary of State for the Family, Theresa May, said: \"These plans were announced by Gordon Brown in his pre-budget review in December and Tony Blair is now recycling it in his desperate bid to win back women voters.\"', 'theme': 'Politics'}, excluded_embed_metadata_keys=['region', 'country', 'id', 'theme'], excluded_llm_metadata_keys=['region', 'country', 'id', 'theme'], relationships={}, metadata_template='{key}: {value}', metadata_separator='\\n', text_resource=MediaResource(embeddings=None, data=None, text='**Title**\\nLabour plans maternity pay rise\\n\\n**Description**\\nMaternity pay for new mothers is to rise by £1,400 as part of new proposals announced by the Trade and Industry Secretary Patricia Hewitt.\\n\\nIt would mean paid leave would be increased to nine months by 2007, Ms Hewitt told GMTV\\'s Sunday programme. Other plans include letting maternity pay be given to fathers and extending rights to parents of older children. The Tories dismissed the maternity pay plan as \"desperate\", while the Liberal Democrats said it was misdirected.\\n\\nMs Hewitt said: \"We have already doubled the length of maternity pay, it was 13 weeks when we were elected, we have already taken it up to 26 weeks. \"We are going to extend the pay to nine months by 2007 and the aim is to get it right up to the full 12 months by the end of the next Parliament.\" She said new mothers were already entitled to 12 months leave, but that many women could not take it as only six of those months were paid. \"We have made a firm commitment. We will definitely extend the maternity pay, from the six months where it now is to nine months, that\\'s the extra £1,400.\" She said ministers would consult on other proposals that could see fathers being allowed to take some of their partner\\'s maternity pay or leave period, or extending the rights of flexible working to carers or parents of older children. The Shadow Secretary of State for the Family, Theresa May, said: \"These plans were announced by Gordon Brown in his pre-budget review in December and Tony Blair is now recycling it in his desperate bid to win back women voters.\"\\n', path=None, url=None, mimetype=None), image_resource=None, audio_resource=None, video_resource=None, text_template='{metadata_str}\\n\\n{content}'),\n",
       " Document(id_='0186', embedding=None, metadata={'id': '0186', 'region': 'EMEA', 'country': 'UK', 'title': \"UK 'needs true immigration data'\", 'description': 'A former Home Office minister has called for an independent body to be set up to monitor UK immigration.\\n\\nBarbara Roche said an organisation should monitor and publish figures and be independent of government. She said this would counter \"so-called independent\" groups like Migration Watch, which she described as an anti-immigration body posing as independent. Migration Watch says it is not against all immigration and the government already publishes accurate figures. Sir Andrew Green, chairman of the organisation, says there is no need for an independent body because Office of National Statistics data are accurate. He says he opposes large-scale immigration \"both on the grounds of overcrowding and culture\".', 'theme': 'Politics'}, excluded_embed_metadata_keys=['region', 'country', 'id', 'theme'], excluded_llm_metadata_keys=['region', 'country', 'id', 'theme'], relationships={}, metadata_template='{key}: {value}', metadata_separator='\\n', text_resource=MediaResource(embeddings=None, data=None, text='**Title**\\nUK \\'needs true immigration data\\'\\n\\n**Description**\\nA former Home Office minister has called for an independent body to be set up to monitor UK immigration.\\n\\nBarbara Roche said an organisation should monitor and publish figures and be independent of government. She said this would counter \"so-called independent\" groups like Migration Watch, which she described as an anti-immigration body posing as independent. Migration Watch says it is not against all immigration and the government already publishes accurate figures. Sir Andrew Green, chairman of the organisation, says there is no need for an independent body because Office of National Statistics data are accurate. He says he opposes large-scale immigration \"both on the grounds of overcrowding and culture\".\\n', path=None, url=None, mimetype=None), image_resource=None, audio_resource=None, video_resource=None, text_template='{metadata_str}\\n\\n{content}'),\n",
       " Document(id_='0187', embedding=None, metadata={'id': '0187', 'region': 'EMEA', 'country': 'UK', 'title': 'Dibaba breaks 5,000m world record', 'description': 'Ethiopia\\'s Tirunesh Dibaba set a new world record in winning the women\\'s 5,000m at the Boston Indoor Games.\\n\\nDibaba won in 14 minutes 32.93 seconds to erase the previous world indoor mark of 14:39.29 set by another Ethiopian, Berhane Adera, in Stuttgart last year. But compatriot Kenenisa Bekele\\'s record hopes were dashed when he miscounted his laps in the men\\'s 3,000m and staged his sprint finish a lap too soon. Ireland\\'s Alistair Cragg won in 7:39.89 as Bekele battled to second in 7:41.42. \"I didn\\'t want to sit back and get out-kicked,\" said Cragg. \"So I kept on the pace. The plan was to go with 500m to go no matter what, but when Bekele made the mistake that was it. The race was mine.\" Sweden\\'s Carolina Kluft, the Olympic heptathlon champion, and Slovenia\\'s Jolanda Ceplak had winning performances, too. Kluft took the long jump at 6.63m, while Ceplak easily won the women\\'s 800m in 2:01.52.\\n', 'theme': 'Sport'}, excluded_embed_metadata_keys=['region', 'country', 'id', 'theme'], excluded_llm_metadata_keys=['region', 'country', 'id', 'theme'], relationships={}, metadata_template='{key}: {value}', metadata_separator='\\n', text_resource=MediaResource(embeddings=None, data=None, text='**Title**\\nDibaba breaks 5,000m world record\\n\\n**Description**\\nEthiopia\\'s Tirunesh Dibaba set a new world record in winning the women\\'s 5,000m at the Boston Indoor Games.\\n\\nDibaba won in 14 minutes 32.93 seconds to erase the previous world indoor mark of 14:39.29 set by another Ethiopian, Berhane Adera, in Stuttgart last year. But compatriot Kenenisa Bekele\\'s record hopes were dashed when he miscounted his laps in the men\\'s 3,000m and staged his sprint finish a lap too soon. Ireland\\'s Alistair Cragg won in 7:39.89 as Bekele battled to second in 7:41.42. \"I didn\\'t want to sit back and get out-kicked,\" said Cragg. \"So I kept on the pace. The plan was to go with 500m to go no matter what, but when Bekele made the mistake that was it. The race was mine.\" Sweden\\'s Carolina Kluft, the Olympic heptathlon champion, and Slovenia\\'s Jolanda Ceplak had winning performances, too. Kluft took the long jump at 6.63m, while Ceplak easily won the women\\'s 800m in 2:01.52.\\n\\n', path=None, url=None, mimetype=None), image_resource=None, audio_resource=None, video_resource=None, text_template='{metadata_str}\\n\\n{content}'),\n",
       " Document(id_='0188', embedding=None, metadata={'id': '0188', 'region': 'EMEA', 'country': 'France', 'title': 'Clarke to unveil immigration plan', 'description': 'New controls on economic migrants and tighter border patrols will be part of government plans unveiled on Monday.\\n\\nHome Secretary Charles Clarke wants to introduce a points system for economic migrants and increase deportations of failed asylum seekers. Tony Blair has said people are right to be concerned about abuses of the system but there is no \"magic bullet\". The Tories say Labour is acting too late while the Lib Dems say the plans may not produce an efficient system.\\n\\nThe government\\'s new five-year plan is designed to show how Labour would reform immigration and asylum controls if it wins the election, expected to be held in May. Ministers deny they have been spurred into action by Tory campaigning or because the prime minister is worried too little has been done.\\n\\nInstead, they say the plans are part of an \"evolving\" process aimed at winning public confidence. Mr Clarke is expected to announce an end to the automatic right to settle for immigrants\\' families, and the introduction of fingerprinting for all visa applicants. The prime minister on Sunday said immigration would be \"toughened up\" to ensure only those immigrants with skills the UK really needs will be granted work permits. But he rejected the Tories\\' call for a quota on economic migrants, saying no \"arbitrary figure\" could reflect the UK\\'s needs.\\n\\nMr Blair told BBC Radio 4\\'s Westminster Hour: \"We should cut the number or increase it depending on the country\\'s needs... \"The public are worried about this, they are worried rightly, because there are abuses of the immigration and asylum system.\" But he defended the UK\\'s current regime, saying all systems around the world were subject to abuse. Tory proposals to cap the number of asylum seekers and process all claims abroad would not work, argued Mr Blair.', 'theme': 'Politics'}, excluded_embed_metadata_keys=['region', 'country', 'id', 'theme'], excluded_llm_metadata_keys=['region', 'country', 'id', 'theme'], relationships={}, metadata_template='{key}: {value}', metadata_separator='\\n', text_resource=MediaResource(embeddings=None, data=None, text='**Title**\\nClarke to unveil immigration plan\\n\\n**Description**\\nNew controls on economic migrants and tighter border patrols will be part of government plans unveiled on Monday.\\n\\nHome Secretary Charles Clarke wants to introduce a points system for economic migrants and increase deportations of failed asylum seekers. Tony Blair has said people are right to be concerned about abuses of the system but there is no \"magic bullet\". The Tories say Labour is acting too late while the Lib Dems say the plans may not produce an efficient system.\\n\\nThe government\\'s new five-year plan is designed to show how Labour would reform immigration and asylum controls if it wins the election, expected to be held in May. Ministers deny they have been spurred into action by Tory campaigning or because the prime minister is worried too little has been done.\\n\\nInstead, they say the plans are part of an \"evolving\" process aimed at winning public confidence. Mr Clarke is expected to announce an end to the automatic right to settle for immigrants\\' families, and the introduction of fingerprinting for all visa applicants. The prime minister on Sunday said immigration would be \"toughened up\" to ensure only those immigrants with skills the UK really needs will be granted work permits. But he rejected the Tories\\' call for a quota on economic migrants, saying no \"arbitrary figure\" could reflect the UK\\'s needs.\\n\\nMr Blair told BBC Radio 4\\'s Westminster Hour: \"We should cut the number or increase it depending on the country\\'s needs... \"The public are worried about this, they are worried rightly, because there are abuses of the immigration and asylum system.\" But he defended the UK\\'s current regime, saying all systems around the world were subject to abuse. Tory proposals to cap the number of asylum seekers and process all claims abroad would not work, argued Mr Blair.\\n', path=None, url=None, mimetype=None), image_resource=None, audio_resource=None, video_resource=None, text_template='{metadata_str}\\n\\n{content}')]"
      ]
     },
     "execution_count": 28,
     "metadata": {},
     "output_type": "execute_result"
    }
   ],
   "source": [
    "docs"
   ]
  },
  {
   "cell_type": "markdown",
   "id": "9d7d0ad2-02d8-493e-a0a9-bbddf35a9b7a",
   "metadata": {},
   "source": [
    "## Ingestion"
   ]
  },
  {
   "cell_type": "code",
   "execution_count": 18,
   "id": "498319e9-8033-4f49-b62e-3d927b2d364a",
   "metadata": {},
   "outputs": [],
   "source": [
    "store_config = load_schema(\"data/store_config.yaml\")"
   ]
  },
  {
   "cell_type": "code",
   "execution_count": 19,
   "id": "287c5fd2-c1a2-43eb-a83c-91607209123b",
   "metadata": {},
   "outputs": [],
   "source": [
    "from storage_service import StorageService"
   ]
  },
  {
   "cell_type": "code",
   "execution_count": 20,
   "id": "a9fa2db1-f4ac-4119-a908-14727eadfc28",
   "metadata": {},
   "outputs": [],
   "source": [
    "store_service = StorageService(store_config)"
   ]
  },
  {
   "cell_type": "code",
   "execution_count": 21,
   "id": "d1b93a0f-1e3f-45ec-adde-eb2da0ec4dbf",
   "metadata": {},
   "outputs": [],
   "source": [
    "from ingestion_service import IngestionService\n",
    "from config import transformations_bbc\n"
   ]
  },
  {
   "cell_type": "code",
   "execution_count": 22,
   "id": "688c6ed4-a89f-4f5e-be73-a8308d577787",
   "metadata": {},
   "outputs": [],
   "source": [
    "ingest_serve = IngestionService(store_service, transformations_bbc)"
   ]
  },
  {
   "cell_type": "code",
   "execution_count": 24,
   "id": "095d64bf-a023-4c6f-9480-9f8d38978b4d",
   "metadata": {},
   "outputs": [],
   "source": [
    "result = ingest_serve.ingest(docs, \"insert\", 2, False)"
   ]
  },
  {
   "cell_type": "code",
   "execution_count": 25,
   "id": "e118ab78-3795-4692-a258-b5a7b72bb8fb",
   "metadata": {},
   "outputs": [
    {
     "data": {
      "text/plain": [
       "IngestionResult(total_nodes=4, failed_nodes_ids=set(), failure_reasons=[], nodes=[], total_documents=4, documents=['0186', '0184', '0187', '0185'])"
      ]
     },
     "execution_count": 25,
     "metadata": {},
     "output_type": "execute_result"
    }
   ],
   "source": [
    "result"
   ]
  },
  {
   "cell_type": "code",
   "execution_count": 27,
   "id": "62845982-4047-436e-a833-6deb101f59e4",
   "metadata": {},
   "outputs": [],
   "source": [
    "bbc_docstore = store_service.storage_context_mapping.docstore"
   ]
  },
  {
   "cell_type": "code",
   "execution_count": 31,
   "id": "73ac13ed-2ef2-4c84-be8c-3f630aebf70f",
   "metadata": {},
   "outputs": [],
   "source": [
    "from config import Settings\n",
    "api_key = Settings.api_key"
   ]
  },
  {
   "cell_type": "code",
   "execution_count": 43,
   "id": "0d5dc545-35a0-4748-a797-a47f57b9e9ce",
   "metadata": {},
   "outputs": [],
   "source": [
    "from llama_index.embeddings.openai import OpenAIEmbedding\n",
    "embed_model = OpenAIEmbedding(\n",
    "                max_retries=50,\n",
    "                embed_batch_size=50,\n",
    "                model=\"text-embedding-ada-002\",\n",
    "                api_key=api_key,\n",
    "            )"
   ]
  },
  {
   "cell_type": "code",
   "execution_count": 44,
   "id": "4be95f13-a631-4c41-a961-0ce89547a624",
   "metadata": {},
   "outputs": [],
   "source": [
    "from llama_index.llms.openai import OpenAI\n",
    "llm = OpenAI(\n",
    "    model=\"gpt-4o\",\n",
    "    api_key=api_key,\n",
    "    temperature=0,\n",
    "    max_tokens=None,\n",
    "    max_retries=2,\n",
    ")\n",
    "\n"
   ]
  },
  {
   "cell_type": "code",
   "execution_count": 45,
   "id": "404ad9f3-bf8a-4940-a44b-af0083e1bd9d",
   "metadata": {},
   "outputs": [],
   "source": [
    "from llama_index.core import VectorStoreIndex\n"
   ]
  },
  {
   "cell_type": "code",
   "execution_count": 46,
   "id": "284b0325-2f2a-42b4-8637-a65dab2445f2",
   "metadata": {},
   "outputs": [],
   "source": [
    "bbc_index = VectorStoreIndex.from_vector_store(vector_store = store_service.storage_context_mapping.vector_store,\n",
    "                                               embed_model=embed_model)"
   ]
  },
  {
   "cell_type": "markdown",
   "id": "98e92c98-8afa-4eec-9057-a9239a84943c",
   "metadata": {},
   "source": [
    "## Query the DB\n",
    "\n",
    "Create a structured response using LLMs"
   ]
  },
  {
   "cell_type": "code",
   "execution_count": 48,
   "id": "2c4b99f7-8cad-4a41-b58a-ba2225737f96",
   "metadata": {},
   "outputs": [],
   "source": [
    "from pydantic import Field, BaseModel\n",
    "\n",
    "class FactCheck(BaseModel):\n",
    "    \n",
    "    theme_type: str = Field(description=\"The theme of the retrieved story\")\n",
    "    detail_response: str = Field(description=\"Provide statistics and numbers\")\n",
    "    short_response: bool = Field(description=\"Provide important members of the identified story and describe what role the play\")\n",
    "    \n",
    "\n",
    "\n",
    "sllm = llm.as_structured_llm(output_cls=FactCheck)\n",
    "\n",
    "query_engine = bbc_index.as_query_engine(\n",
    "    llm=sllm, similarity_top_k=1\n",
    ")\n"
   ]
  },
  {
   "cell_type": "code",
   "execution_count": 49,
   "id": "94165cc8-d0a1-4c53-ad9b-b3befda4d3c5",
   "metadata": {},
   "outputs": [
    {
     "data": {
      "text/plain": [
       "PydanticResponse(response=FactCheck(theme_type='Sports', detail_response='true', short_response=False), source_nodes=[NodeWithScore(node=TextNode(id_='31ff59b2-1784-4ac9-9ef7-cebf6925ce2f', embedding=None, metadata={'id': '0187', 'region': 'EMEA', 'country': 'UK', 'title': 'Dibaba breaks 5,000m world record', 'description': 'Ethiopia\\'s Tirunesh Dibaba set a new world record in winning the women\\'s 5,000m at the Boston Indoor Games.\\n\\nDibaba won in 14 minutes 32.93 seconds to erase the previous world indoor mark of 14:39.29 set by another Ethiopian, Berhane Adera, in Stuttgart last year. But compatriot Kenenisa Bekele\\'s record hopes were dashed when he miscounted his laps in the men\\'s 3,000m and staged his sprint finish a lap too soon. Ireland\\'s Alistair Cragg won in 7:39.89 as Bekele battled to second in 7:41.42. \"I didn\\'t want to sit back and get out-kicked,\" said Cragg. \"So I kept on the pace. The plan was to go with 500m to go no matter what, but when Bekele made the mistake that was it. The race was mine.\" Sweden\\'s Carolina Kluft, the Olympic heptathlon champion, and Slovenia\\'s Jolanda Ceplak had winning performances, too. Kluft took the long jump at 6.63m, while Ceplak easily won the women\\'s 800m in 2:01.52.\\n', 'theme': 'Sport', 'header_path': '/'}, excluded_embed_metadata_keys=['id', 'country', 'theme', 'region'], excluded_llm_metadata_keys=['id', 'country', 'theme', 'region'], relationships={<NodeRelationship.SOURCE: '1'>: RelatedNodeInfo(node_id='0187', node_type='4', metadata={'id': '0187', 'region': 'EMEA', 'country': 'UK', 'title': 'Dibaba breaks 5,000m world record', 'description': 'Ethiopia\\'s Tirunesh Dibaba set a new world record in winning the women\\'s 5,000m at the Boston Indoor Games.\\n\\nDibaba won in 14 minutes 32.93 seconds to erase the previous world indoor mark of 14:39.29 set by another Ethiopian, Berhane Adera, in Stuttgart last year. But compatriot Kenenisa Bekele\\'s record hopes were dashed when he miscounted his laps in the men\\'s 3,000m and staged his sprint finish a lap too soon. Ireland\\'s Alistair Cragg won in 7:39.89 as Bekele battled to second in 7:41.42. \"I didn\\'t want to sit back and get out-kicked,\" said Cragg. \"So I kept on the pace. The plan was to go with 500m to go no matter what, but when Bekele made the mistake that was it. The race was mine.\" Sweden\\'s Carolina Kluft, the Olympic heptathlon champion, and Slovenia\\'s Jolanda Ceplak had winning performances, too. Kluft took the long jump at 6.63m, while Ceplak easily won the women\\'s 800m in 2:01.52.\\n', 'theme': 'Sport'}, hash='72731b496bb21ce0a3fc6516fd0647d9aa0819ec8ce17b7f74ef7a194bd62426')}, metadata_template='{key}: {value}', metadata_separator='\\n', text='**Title**\\nDibaba breaks 5,000m world record\\n\\n**Description**\\nEthiopia\\'s Tirunesh Dibaba set a new world record in winning the women\\'s 5,000m at the Boston Indoor Games.\\n\\nDibaba won in 14 minutes 32.93 seconds to erase the previous world indoor mark of 14:39.29 set by another Ethiopian, Berhane Adera, in Stuttgart last year. But compatriot Kenenisa Bekele\\'s record hopes were dashed when he miscounted his laps in the men\\'s 3,000m and staged his sprint finish a lap too soon. Ireland\\'s Alistair Cragg won in 7:39.89 as Bekele battled to second in 7:41.42. \"I didn\\'t want to sit back and get out-kicked,\" said Cragg. \"So I kept on the pace. The plan was to go with 500m to go no matter what, but when Bekele made the mistake that was it. The race was mine.\" Sweden\\'s Carolina Kluft, the Olympic heptathlon champion, and Slovenia\\'s Jolanda Ceplak had winning performances, too. Kluft took the long jump at 6.63m, while Ceplak easily won the women\\'s 800m in 2:01.52.', mimetype='text/plain', start_char_idx=0, end_char_idx=964, metadata_seperator='\\n', text_template='{metadata_str}\\n\\n{content}'), score=0.7313982)], metadata={'31ff59b2-1784-4ac9-9ef7-cebf6925ce2f': {'id': '0187', 'region': 'EMEA', 'country': 'UK', 'title': 'Dibaba breaks 5,000m world record', 'description': 'Ethiopia\\'s Tirunesh Dibaba set a new world record in winning the women\\'s 5,000m at the Boston Indoor Games.\\n\\nDibaba won in 14 minutes 32.93 seconds to erase the previous world indoor mark of 14:39.29 set by another Ethiopian, Berhane Adera, in Stuttgart last year. But compatriot Kenenisa Bekele\\'s record hopes were dashed when he miscounted his laps in the men\\'s 3,000m and staged his sprint finish a lap too soon. Ireland\\'s Alistair Cragg won in 7:39.89 as Bekele battled to second in 7:41.42. \"I didn\\'t want to sit back and get out-kicked,\" said Cragg. \"So I kept on the pace. The plan was to go with 500m to go no matter what, but when Bekele made the mistake that was it. The race was mine.\" Sweden\\'s Carolina Kluft, the Olympic heptathlon champion, and Slovenia\\'s Jolanda Ceplak had winning performances, too. Kluft took the long jump at 6.63m, while Ceplak easily won the women\\'s 800m in 2:01.52.\\n', 'theme': 'Sport', 'header_path': '/'}})"
      ]
     },
     "execution_count": 49,
     "metadata": {},
     "output_type": "execute_result"
    }
   ],
   "source": [
    "query_engine.query(\"what was the womans running event?\")"
   ]
  },
  {
   "cell_type": "markdown",
   "id": "fab1e6c2-395b-42ab-84b1-23bb16520997",
   "metadata": {},
   "source": [
    "## Search based on Filters "
   ]
  },
  {
   "cell_type": "code",
   "execution_count": 55,
   "id": "9085dd80-600e-443a-b350-a3b78cf8aa57",
   "metadata": {},
   "outputs": [
    {
     "name": "stdout",
     "output_type": "stream",
     "text": [
      "{'id': '0185', 'region': 'EMEA', 'country': 'UK', 'title': 'Labour plans maternity pay rise', 'description': 'Maternity pay for new mothers is to rise by £1,400 as part of new proposals announced by the Trade and Industry Secretary Patricia Hewitt.\\n\\nIt would mean paid leave would be increased to nine months by 2007, Ms Hewitt told GMTV\\'s Sunday programme. Other plans include letting maternity pay be given to fathers and extending rights to parents of older children. The Tories dismissed the maternity pay plan as \"desperate\", while the Liberal Democrats said it was misdirected.\\n\\nMs Hewitt said: \"We have already doubled the length of maternity pay, it was 13 weeks when we were elected, we have already taken it up to 26 weeks. \"We are going to extend the pay to nine months by 2007 and the aim is to get it right up to the full 12 months by the end of the next Parliament.\" She said new mothers were already entitled to 12 months leave, but that many women could not take it as only six of those months were paid. \"We have made a firm commitment. We will definitely extend the maternity pay, from the six months where it now is to nine months, that\\'s the extra £1,400.\" She said ministers would consult on other proposals that could see fathers being allowed to take some of their partner\\'s maternity pay or leave period, or extending the rights of flexible working to carers or parents of older children. The Shadow Secretary of State for the Family, Theresa May, said: \"These plans were announced by Gordon Brown in his pre-budget review in December and Tony Blair is now recycling it in his desperate bid to win back women voters.\"', 'theme': 'Politics', 'header_path': '/'}\n",
      "**Title**\n",
      "Labour plans maternity pay rise\n",
      "\n",
      "**Description**\n",
      "Maternity pay for new mothers is to rise by £1,400 as part of new proposals announced by the Trade and Industry Secretary Patricia Hewitt.\n",
      "\n",
      "It would mean paid leave would be increased to nine months by 2007, Ms Hewitt told GMTV's Sunday programme. Other plans include letting maternity pay be given to fathers and extending rights to parents of older children. The Tories dismissed the maternity pay plan as \"desperate\", while the Liberal Democrats said it was misdirected.\n",
      "\n",
      "Ms Hewitt said: \"We have already doubled the length of maternity pay, it was 13 weeks when we were elected, we have already taken it up to 26 weeks. \"We are going to extend the pay to nine months by 2007 and the aim is to get it right up to the full 12 months by the end of the next Parliament.\" She said new mothers were already entitled to 12 months leave, but that many women could not take it as only six of those months were paid. \"We have made a firm commitment. We will definitely extend the maternity pay, from the six months where it now is to nine months, that's the extra £1,400.\" She said ministers would consult on other proposals that could see fathers being allowed to take some of their partner's maternity pay or leave period, or extending the rights of flexible working to carers or parents of older children. The Shadow Secretary of State for the Family, Theresa May, said: \"These plans were announced by Gordon Brown in his pre-budget review in December and Tony Blair is now recycling it in his desperate bid to win back women voters.\"\n"
     ]
    }
   ],
   "source": [
    "from llama_index.core.vector_stores.types import (\n",
    "    MetadataFilter,\n",
    "    MetadataFilters,\n",
    ")\n",
    "\n",
    "\n",
    "filters = MetadataFilters(\n",
    "    filters=[\n",
    "        MetadataFilter(key=\"country\", value=\"UK\"),\n",
    "        ]\n",
    ")\n",
    "\n",
    "retriever = bbc_index.as_retriever(\n",
    "    similarity_top_k=1,\n",
    "    filters=filters,\n",
    ")\n",
    "\n",
    "retrieved_nodes = retriever.retrieve(\"maternity pay rise plans\")\n",
    "\n",
    "for node in retrieved_nodes:\n",
    "    print(node.node.metadata)\n",
    "    print(node.node.text)\n",
    "\n"
   ]
  },
  {
   "cell_type": "code",
   "execution_count": null,
   "id": "a30c005d-b0b7-474f-ac1c-0551a92e9927",
   "metadata": {},
   "outputs": [],
   "source": [
    "bbc_metadata = bbc_docstore.aget_distinct(\n",
    "    path=[\"__data__\", \"metadata\"],\n",
    "    filters=MetadataFilters(\n",
    "        filters=[\n",
    "            ExactMatchFilter(\n",
    "                key=\"country\",\n",
    "                value=country,\n",
    "            )\n",
    "            for country in ['UK']\n",
    "        ],\n",
    "        condition=\"or\"\n",
    "    ),\n",
    ")"
   ]
  },
  {
   "cell_type": "code",
   "execution_count": null,
   "id": "f9299cf0-d80b-4150-93fc-d74393266080",
   "metadata": {},
   "outputs": [],
   "source": []
  },
  {
   "cell_type": "code",
   "execution_count": 51,
   "id": "6129627d-a38c-4f4c-8810-3471593a89b5",
   "metadata": {},
   "outputs": [
    {
     "name": "stdout",
     "output_type": "stream",
     "text": [
      "({'id': '0185', 'theme': 'Politics', 'title': 'Labour plans maternity pay rise', 'region': 'EMEA', 'country': 'UK', 'description': 'Maternity pay for new mothers is to rise by £1,400 as part of new proposals announced by the Trade and Industry Secretary Patricia Hewitt.\\n\\nIt would mean paid leave would be increased to nine months by 2007, Ms Hewitt told GMTV\\'s Sunday programme. Other plans include letting maternity pay be given to fathers and extending rights to parents of older children. The Tories dismissed the maternity pay plan as \"desperate\", while the Liberal Democrats said it was misdirected.\\n\\nMs Hewitt said: \"We have already doubled the length of maternity pay, it was 13 weeks when we were elected, we have already taken it up to 26 weeks. \"We are going to extend the pay to nine months by 2007 and the aim is to get it right up to the full 12 months by the end of the next Parliament.\" She said new mothers were already entitled to 12 months leave, but that many women could not take it as only six of those months were paid. \"We have made a firm commitment. We will definitely extend the maternity pay, from the six months where it now is to nine months, that\\'s the extra £1,400.\" She said ministers would consult on other proposals that could see fathers being allowed to take some of their partner\\'s maternity pay or leave period, or extending the rights of flexible working to carers or parents of older children. The Shadow Secretary of State for the Family, Theresa May, said: \"These plans were announced by Gordon Brown in his pre-budget review in December and Tony Blair is now recycling it in his desperate bid to win back women voters.\"'},)\n",
      "({'id': '0186', 'theme': 'Politics', 'title': \"UK 'needs true immigration data'\", 'region': 'EMEA', 'country': 'UK', 'description': 'A former Home Office minister has called for an independent body to be set up to monitor UK immigration.\\n\\nBarbara Roche said an organisation should monitor and publish figures and be independent of government. She said this would counter \"so-called independent\" groups like Migration Watch, which she described as an anti-immigration body posing as independent. Migration Watch says it is not against all immigration and the government already publishes accurate figures. Sir Andrew Green, chairman of the organisation, says there is no need for an independent body because Office of National Statistics data are accurate. He says he opposes large-scale immigration \"both on the grounds of overcrowding and culture\".'},)\n",
      "({'id': '0187', 'theme': 'Sport', 'title': 'Dibaba breaks 5,000m world record', 'region': 'EMEA', 'country': 'UK', 'description': 'Ethiopia\\'s Tirunesh Dibaba set a new world record in winning the women\\'s 5,000m at the Boston Indoor Games.\\n\\nDibaba won in 14 minutes 32.93 seconds to erase the previous world indoor mark of 14:39.29 set by another Ethiopian, Berhane Adera, in Stuttgart last year. But compatriot Kenenisa Bekele\\'s record hopes were dashed when he miscounted his laps in the men\\'s 3,000m and staged his sprint finish a lap too soon. Ireland\\'s Alistair Cragg won in 7:39.89 as Bekele battled to second in 7:41.42. \"I didn\\'t want to sit back and get out-kicked,\" said Cragg. \"So I kept on the pace. The plan was to go with 500m to go no matter what, but when Bekele made the mistake that was it. The race was mine.\" Sweden\\'s Carolina Kluft, the Olympic heptathlon champion, and Slovenia\\'s Jolanda Ceplak had winning performances, too. Kluft took the long jump at 6.63m, while Ceplak easily won the women\\'s 800m in 2:01.52.\\n'},)\n"
     ]
    }
   ],
   "source": [
    "import psycopg2\n",
    "\n",
    "# Set up your connection (adjust credentials accordingly)\n",
    "conn = psycopg2.connect(\n",
    "    host=\"localhost\",\n",
    "    dbname=\"vectortutorial\",\n",
    "    user=\"postgres\",\n",
    "    password=\"password\"\n",
    ")\n",
    "\n",
    "cur = conn.cursor()\n",
    "\n",
    "# Correct SQL query using parameter placeholders\n",
    "sql = \"\"\"\n",
    "SELECT DISTINCT value->'__data__'->'metadata'\n",
    "FROM public.data_experiment_bbc_ds \n",
    "WHERE value->'__data__'->'metadata'->>'country' = %s;\n",
    "\"\"\"\n",
    "\n",
    "# Execute with 'UK' as a parameter\n",
    "cur.execute(sql, ('UK',))\n",
    "\n",
    "# Fetch results\n",
    "results = cur.fetchall()\n",
    "\n",
    "# Process results\n",
    "for row in results:\n",
    "    print(row)\n",
    "\n",
    "cur.close()\n",
    "conn.close()"
   ]
  },
  {
   "cell_type": "code",
   "execution_count": null,
   "id": "e4c0cc36-48b1-470a-9734-ab01149913de",
   "metadata": {},
   "outputs": [],
   "source": []
  }
 ],
 "metadata": {
  "kernelspec": {
   "display_name": "venv",
   "language": "python",
   "name": "venv"
  },
  "language_info": {
   "codemirror_mode": {
    "name": "ipython",
    "version": 3
   },
   "file_extension": ".py",
   "mimetype": "text/x-python",
   "name": "python",
   "nbconvert_exporter": "python",
   "pygments_lexer": "ipython3",
   "version": "3.11.8"
  }
 },
 "nbformat": 4,
 "nbformat_minor": 5
}
